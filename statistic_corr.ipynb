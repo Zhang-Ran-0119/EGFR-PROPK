{
 "cells": [
  {
   "cell_type": "code",
   "execution_count": 1,
   "metadata": {},
   "outputs": [],
   "source": [
    "import pandas as pd"
   ]
  },
  {
   "cell_type": "code",
   "execution_count": 2,
   "metadata": {},
   "outputs": [],
   "source": [
    "data = pd.read_csv(\"data_predicted.csv\")"
   ]
  },
  {
   "cell_type": "code",
   "execution_count": 3,
   "metadata": {},
   "outputs": [
    {
     "data": {
      "text/plain": [
       "Index(['Unnamed: 0', '3_t0.5', 't0.5_10_pred', 't0.5_10_mol_pred', 't0.5_10',\n",
       "       '3_vss', 'Vss_1_pred', 'vss_1_mol', 'Vss_1', '3_cl-plasma', 'CL_1_pred',\n",
       "       'CL_1_mol_pred', 'CL_1'],\n",
       "      dtype='object')"
      ]
     },
     "execution_count": 3,
     "metadata": {},
     "output_type": "execute_result"
    }
   ],
   "source": [
    "data.keys()"
   ]
  },
  {
   "cell_type": "code",
   "execution_count": 4,
   "metadata": {},
   "outputs": [
    {
     "data": {
      "text/plain": [
       "(0.07935128308121324, 0.030441282333034406, 0.7834085112525171)"
      ]
     },
     "execution_count": 4,
     "metadata": {},
     "output_type": "execute_result"
    }
   ],
   "source": [
    "data['3_t0.5'].corr(data['t0.5_10']), data['t0.5_10_mol_pred'].corr(data['t0.5_10']), data['t0.5_10_pred'].corr(data['t0.5_10'])"
   ]
  },
  {
   "cell_type": "code",
   "execution_count": 5,
   "metadata": {},
   "outputs": [
    {
     "data": {
      "text/plain": [
       "(0.5719192171234042, 0.11439559629867387, 0.5249111438929295)"
      ]
     },
     "execution_count": 5,
     "metadata": {},
     "output_type": "execute_result"
    }
   ],
   "source": [
    "data['3_vss'].corr(data['Vss_1']), data['vss_1_mol'].corr(data['Vss_1']), data['Vss_1_pred'].corr(data['Vss_1'])"
   ]
  },
  {
   "cell_type": "code",
   "execution_count": 6,
   "metadata": {},
   "outputs": [
    {
     "data": {
      "text/plain": [
       "(-0.04237575463575944, -0.1876642972231593, 0.7471891173362757)"
      ]
     },
     "execution_count": 6,
     "metadata": {},
     "output_type": "execute_result"
    }
   ],
   "source": [
    "data['3_cl-plasma'].corr(data['CL_1']), data['CL_1_mol_pred'].corr(data['CL_1']), data['CL_1_pred'].corr(data['CL_1'])"
   ]
  },
  {
   "cell_type": "code",
   "execution_count": 7,
   "metadata": {},
   "outputs": [],
   "source": [
    "data1 = pd.read_csv('data_shuffle.csv')"
   ]
  },
  {
   "cell_type": "code",
   "execution_count": 8,
   "metadata": {},
   "outputs": [
    {
     "data": {
      "text/plain": [
       "Index(['Unnamed: 0.1', 'Unnamed: 0', 'smiles_rdkit', 't0.5_1', 'CL_1', 'Vss_1',\n",
       "       't0.5_10', 'F_10', '3_cl-plasma', '3_t0.5', '3_logVDss', '3_f20',\n",
       "       '3_f30', '3_f50', 'qed', 'TPSA', 'num_h_donors', 'num_h_acceptors',\n",
       "       'mol_wt', 'logp', 'num_rotatable_bonds'],\n",
       "      dtype='object')"
      ]
     },
     "execution_count": 8,
     "metadata": {},
     "output_type": "execute_result"
    }
   ],
   "source": [
    "data1.keys()"
   ]
  },
  {
   "cell_type": "code",
   "execution_count": 9,
   "metadata": {},
   "outputs": [
    {
     "data": {
      "text/plain": [
       "0.19405563695617717"
      ]
     },
     "execution_count": 9,
     "metadata": {},
     "output_type": "execute_result"
    }
   ],
   "source": [
    "data1['t0.5_1'].corr(data1['logp'])"
   ]
  }
 ],
 "metadata": {
  "kernelspec": {
   "display_name": "tdc",
   "language": "python",
   "name": "python3"
  },
  "language_info": {
   "codemirror_mode": {
    "name": "ipython",
    "version": 3
   },
   "file_extension": ".py",
   "mimetype": "text/x-python",
   "name": "python",
   "nbconvert_exporter": "python",
   "pygments_lexer": "ipython3",
   "version": "3.9.18"
  }
 },
 "nbformat": 4,
 "nbformat_minor": 2
}
