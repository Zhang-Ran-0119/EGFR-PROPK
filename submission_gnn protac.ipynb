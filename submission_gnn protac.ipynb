{
 "cells": [
  {
   "cell_type": "code",
   "execution_count": 1,
   "metadata": {},
   "outputs": [
    {
     "name": "stderr",
     "output_type": "stream",
     "text": [
      "/home/lfl/software/anaconda3/envs/tdc/lib/python3.9/site-packages/tqdm/auto.py:21: TqdmWarning: IProgress not found. Please update jupyter and ipywidgets. See https://ipywidgets.readthedocs.io/en/stable/user_install.html\n",
      "  from .autonotebook import tqdm as notebook_tqdm\n"
     ]
    }
   ],
   "source": [
    "from maplight_gnn import *\n",
    "import catboost as cb\n",
    "import pandas as pd\n",
    "import pickle"
   ]
  },
  {
   "cell_type": "code",
   "execution_count": 2,
   "metadata": {},
   "outputs": [],
   "source": [
    "df = pd.read_csv('data_shuffle.csv')\n",
    "df1 = pd.DataFrame()"
   ]
  },
  {
   "cell_type": "code",
   "execution_count": 3,
   "metadata": {},
   "outputs": [],
   "source": [
    "# df = df.sample(frac=1)\n",
    "# df.to_csv('data_shuffle.csv')"
   ]
  },
  {
   "cell_type": "code",
   "execution_count": 4,
   "metadata": {},
   "outputs": [
    {
     "data": {
      "text/plain": [
       "0.7834085111930804"
      ]
     },
     "execution_count": 4,
     "metadata": {},
     "output_type": "execute_result"
    }
   ],
   "source": [
    "obj = 't0.5_10'\n",
    "params = {\n",
    "    'random_strength': 2, \n",
    "    'random_seed': 42,\n",
    "    'verbose': 0,\n",
    "    'loss_function': 'MAE',\n",
    "}\n",
    "X_train = get_fingerprints(df['smiles_rdkit'])\n",
    "Y_scaler = scaler(log=True)\n",
    "Y_scaler.fit(df[obj].values)\n",
    "train_Y_scale = Y_scaler.transform(df[obj].values)\n",
    "model = cb.CatBoostRegressor(**params)\n",
    "model.fit(X_train[:80], train_Y_scale[:80])\n",
    "y_pred_test = Y_scaler.inverse_transform(model.predict(X_train[80:])).reshape(-1)\n",
    "df1[obj+'_pred'] = y_pred_test\n",
    "df1[obj] = df[obj][80:].tolist()\n",
    "\n",
    "pickle.dump(model, open(obj+'.pkl','wb'))\n",
    "df1[obj+'_pred'].corr(df1[obj])"
   ]
  },
  {
   "cell_type": "code",
   "execution_count": 5,
   "metadata": {},
   "outputs": [
    {
     "data": {
      "text/plain": [
       "0.5249111438116602"
      ]
     },
     "execution_count": 5,
     "metadata": {},
     "output_type": "execute_result"
    }
   ],
   "source": [
    "obj = 'Vss_1'\n",
    "params = {\n",
    "    'random_strength': 2, \n",
    "    'random_seed': 42,\n",
    "    'verbose': 0,\n",
    "    'loss_function': 'MAE',\n",
    "}\n",
    "X_train = get_fingerprints(df['smiles_rdkit'])\n",
    "Y_scaler = scaler(log=True)\n",
    "Y_scaler.fit(df[obj].values)\n",
    "train_Y_scale = Y_scaler.transform(df[obj].values)\n",
    "model = cb.CatBoostRegressor(**params)\n",
    "model.fit(X_train[:80], train_Y_scale[:80])\n",
    "y_pred_test = Y_scaler.inverse_transform(model.predict(X_train[80:])).reshape(-1)\n",
    "df1[obj+'_pred'] = y_pred_test\n",
    "df1[obj] = df[obj][80:].tolist()\n",
    "\n",
    "pickle.dump(model, open(obj+'.pkl','wb'))\n",
    "df1[obj+'_pred'].corr(df1[obj])"
   ]
  },
  {
   "cell_type": "code",
   "execution_count": 6,
   "metadata": {},
   "outputs": [
    {
     "data": {
      "text/plain": [
       "0.7471891174133172"
      ]
     },
     "execution_count": 6,
     "metadata": {},
     "output_type": "execute_result"
    }
   ],
   "source": [
    "obj = 'CL_1'\n",
    "params = {\n",
    "    'random_strength': 2, \n",
    "    'random_seed': 42,\n",
    "    'verbose': 0,\n",
    "    'loss_function': 'MAE',\n",
    "}\n",
    "X_train = get_fingerprints(df['smiles_rdkit'])\n",
    "Y_scaler = scaler(log=True)\n",
    "Y_scaler.fit(df[obj].values)\n",
    "train_Y_scale = Y_scaler.transform(df[obj].values)\n",
    "model = cb.CatBoostRegressor(**params)\n",
    "model.fit(X_train[:80], train_Y_scale[:80])\n",
    "y_pred_test = Y_scaler.inverse_transform(model.predict(X_train[80:])).reshape(-1)\n",
    "df1[obj+'_pred'] = y_pred_test\n",
    "df1[obj] = df[obj][80:].tolist()\n",
    "\n",
    "pickle.dump(model, open(obj+'.pkl','wb'))\n",
    "df1[obj+'_pred'].corr(df1[obj])"
   ]
  },
  {
   "cell_type": "code",
   "execution_count": 7,
   "metadata": {},
   "outputs": [],
   "source": [
    "#admetlab3\n",
    "df1['3_logVDss'] = df['3_logVDss']\n",
    "df1['3_t0.5'] = df['3_t0.5'] \n",
    "df1['3_cl-plasma'] = df['3_cl-plasma']"
   ]
  },
  {
   "cell_type": "code",
   "execution_count": 8,
   "metadata": {},
   "outputs": [],
   "source": [
    "df1.to_csv('data4.csv')"
   ]
  }
 ],
 "metadata": {
  "kernelspec": {
   "display_name": "tdc",
   "language": "python",
   "name": "python3"
  },
  "language_info": {
   "codemirror_mode": {
    "name": "ipython",
    "version": 3
   },
   "file_extension": ".py",
   "mimetype": "text/x-python",
   "name": "python",
   "nbconvert_exporter": "python",
   "pygments_lexer": "ipython3",
   "version": "3.10.13"
  },
  "orig_nbformat": 4
 },
 "nbformat": 4,
 "nbformat_minor": 2
}
