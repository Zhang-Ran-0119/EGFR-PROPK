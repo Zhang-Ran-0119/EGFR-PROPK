{
 "cells": [
  {
   "cell_type": "code",
   "execution_count": null,
   "metadata": {},
   "outputs": [
    {
     "ename": "",
     "evalue": "",
     "output_type": "error",
     "traceback": [
      "\u001b[1;31mRunning cells with 'DeepSA (Python 3.8.13)' requires the ipykernel package.\n",
      "\u001b[1;31mRun the following command to install 'ipykernel' into the Python environment. \n",
      "\u001b[1;31mCommand: 'conda install -n DeepSA ipykernel --update-deps --force-reinstall'"
     ]
    }
   ],
   "source": [
    "from maplight_gnn import *\n",
    "import catboost as cb\n",
    "import pandas as pd\n",
    "import pickle\n",
    "from tdc.benchmark_group import admet_group"
   ]
  },
  {
   "cell_type": "code",
   "execution_count": 2,
   "metadata": {},
   "outputs": [],
   "source": [
    "df = pd.read_csv('data_shuffle.csv')\n",
    "df1 = pd.DataFrame()"
   ]
  },
  {
   "cell_type": "code",
   "execution_count": 3,
   "metadata": {},
   "outputs": [
    {
     "name": "stderr",
     "output_type": "stream",
     "text": [
      "Found local copy...\n"
     ]
    }
   ],
   "source": [
    "group = admet_group(path = 'data/')"
   ]
  },
  {
   "cell_type": "code",
   "execution_count": 4,
   "metadata": {},
   "outputs": [
    {
     "data": {
      "text/plain": [
       "0.030441282295953206"
      ]
     },
     "execution_count": 4,
     "metadata": {},
     "output_type": "execute_result"
    }
   ],
   "source": [
    "obj = 't0.5_10'\n",
    "admet_benchmark = \"half_life_obach\"\n",
    "params = {\n",
    "    'random_strength': 2, \n",
    "    'random_seed': 42,\n",
    "    'verbose': 0,\n",
    "    'loss_function': 'MAE',\n",
    "}\n",
    "benchmark = group.get(admet_benchmark)\n",
    "train, test = benchmark['train_val'], benchmark['test']\n",
    "X_train = get_fingerprints(train['Drug'])\n",
    "X_test = get_fingerprints(test['Drug'])\n",
    "Y_scaler = scaler(log=True)\n",
    "Y_scaler.fit(train['Y'].values)\n",
    "train_Y_scale = Y_scaler.transform(train['Y'].values)\n",
    "model = cb.CatBoostRegressor(**params)\n",
    "model.fit(X_train, train_Y_scale)\n",
    "y_pred_test = Y_scaler.inverse_transform(model.predict(X_test)).reshape(-1)\n",
    "protac_test = get_fingerprints(df['smiles_rdkit'][80:])\n",
    "protac_pred_test = Y_scaler.inverse_transform(model.predict(protac_test)).reshape(-1)\n",
    "df1[obj+'_mol_pred'] = protac_pred_test\n",
    "df1[obj] = df[obj][80:].tolist()\n",
    "pickle.dump(model, open(obj+'_mol.pkl','wb'))\n",
    "df1[obj+'_mol_pred'].corr(df1[obj])"
   ]
  },
  {
   "cell_type": "code",
   "execution_count": 5,
   "metadata": {},
   "outputs": [
    {
     "data": {
      "text/plain": [
       "0.11439559629120191"
      ]
     },
     "execution_count": 5,
     "metadata": {},
     "output_type": "execute_result"
    }
   ],
   "source": [
    "obj = 'Vss_1'\n",
    "admet_benchmark = \"vdss_lombardo\"\n",
    "params = {\n",
    "    'random_strength': 2, \n",
    "    'random_seed': 42,\n",
    "    'verbose': 0,\n",
    "    'loss_function': 'MAE',\n",
    "}\n",
    "benchmark = group.get(admet_benchmark)\n",
    "train, test = benchmark['train_val'], benchmark['test']\n",
    "X_train = get_fingerprints(train['Drug'])\n",
    "X_test = get_fingerprints(test['Drug'])\n",
    "Y_scaler = scaler(log=True)\n",
    "Y_scaler.fit(train['Y'].values)\n",
    "train_Y_scale = Y_scaler.transform(train['Y'].values)\n",
    "model = cb.CatBoostRegressor(**params)\n",
    "model.fit(X_train, train_Y_scale)\n",
    "y_pred_test = Y_scaler.inverse_transform(model.predict(X_test)).reshape(-1)\n",
    "protac_test = get_fingerprints(df['smiles_rdkit'][80:])\n",
    "protac_pred_test = Y_scaler.inverse_transform(model.predict(protac_test)).reshape(-1)\n",
    "df1[obj+'_mol_pred'] = protac_pred_test\n",
    "df1[obj] = df[obj][80:].tolist()\n",
    "pickle.dump(model, open(obj+'_mol.pkl','wb'))\n",
    "df1[obj+'_mol_pred'].corr(df1[obj])"
   ]
  },
  {
   "cell_type": "code",
   "execution_count": 6,
   "metadata": {},
   "outputs": [
    {
     "data": {
      "text/plain": [
       "-0.187664290018834"
      ]
     },
     "execution_count": 6,
     "metadata": {},
     "output_type": "execute_result"
    }
   ],
   "source": [
    "obj = 'CL_1'\n",
    "admet_benchmark = \"clearance_microsome_az\"\n",
    "params = {\n",
    "    'random_strength': 2, \n",
    "    'random_seed': 42,\n",
    "    'verbose': 0,\n",
    "    'loss_function': 'MAE',\n",
    "}\n",
    "benchmark = group.get(admet_benchmark)\n",
    "train, test = benchmark['train_val'], benchmark['test']\n",
    "X_train = get_fingerprints(train['Drug'])\n",
    "X_test = get_fingerprints(test['Drug'])\n",
    "Y_scaler = scaler(log=True)\n",
    "Y_scaler.fit(train['Y'].values)\n",
    "train_Y_scale = Y_scaler.transform(train['Y'].values)\n",
    "model = cb.CatBoostRegressor(**params)\n",
    "model.fit(X_train, train_Y_scale)\n",
    "y_pred_test = Y_scaler.inverse_transform(model.predict(X_test)).reshape(-1)\n",
    "protac_test = get_fingerprints(df['smiles_rdkit'][80:])\n",
    "protac_pred_test = Y_scaler.inverse_transform(model.predict(protac_test)).reshape(-1)\n",
    "df1[obj+'_mol_pred'] = protac_pred_test\n",
    "df1[obj] = df[obj][80:].tolist()\n",
    "pickle.dump(model, open(obj+'_mol.pkl','wb'))\n",
    "df1[obj+'_mol_pred'].corr(df1[obj])"
   ]
  },
  {
   "cell_type": "code",
   "execution_count": 7,
   "metadata": {},
   "outputs": [],
   "source": [
    "df1.to_csv('data5.csv')"
   ]
  }
 ],
 "metadata": {
  "kernelspec": {
   "display_name": "tdc",
   "language": "python",
   "name": "python3"
  },
  "language_info": {
   "codemirror_mode": {
    "name": "ipython",
    "version": 3
   },
   "file_extension": ".py",
   "mimetype": "text/x-python",
   "name": "python",
   "nbconvert_exporter": "python",
   "pygments_lexer": "ipython3",
   "version": "3.10.13"
  },
  "orig_nbformat": 4
 },
 "nbformat": 4,
 "nbformat_minor": 2
}
