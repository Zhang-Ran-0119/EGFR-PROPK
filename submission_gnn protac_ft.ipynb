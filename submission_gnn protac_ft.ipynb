{
 "cells": [
  {
   "cell_type": "code",
   "execution_count": 19,
   "metadata": {},
   "outputs": [],
   "source": [
    "from maplight_gnn import *\n",
    "import catboost as cb\n",
    "import pandas as pd\n",
    "import pickle"
   ]
  },
  {
   "cell_type": "code",
   "execution_count": 20,
   "metadata": {},
   "outputs": [],
   "source": [
    "df = pd.read_csv('data_shuffle.csv')\n",
    "df1 = pd.DataFrame()"
   ]
  },
  {
   "cell_type": "code",
   "execution_count": null,
   "metadata": {},
   "outputs": [
    {
     "name": "stdout",
     "output_type": "stream",
     "text": [
      "Correlation: 0.43179218987850654\n"
     ]
    }
   ],
   "source": [
    "pretrained_model = pickle.load(open('CL_1_mol.pkl', 'rb'))\n",
    "\n",
    "params = {\n",
    "    #'random_strength': 2, \n",
    "    'random_seed': 42,\n",
    "    'verbose': 0,\n",
    "    'loss_function': 'MAE',\n",
    "    #'iterations': 500,  \n",
    "    #'learning_rate': 0.003,  \n",
    "}\n",
    "obj = 'CL_1'\n",
    "\n",
    "X_train = get_fingerprints(df['smiles_rdkit'])\n",
    "Y_scaler = scaler(log=True)\n",
    "Y_scaler.fit(df[obj].values)\n",
    "train_Y_scale = Y_scaler.transform(df[obj].values)\n",
    "\n",
    "\n",
    "model = cb.CatBoostRegressor(**params)\n",
    "model.fit(X_train[:80], train_Y_scale[:80], \n",
    "          init_model=pretrained_model) \n",
    "\n",
    "\n",
    "y_pred_test = Y_scaler.inverse_transform(model.predict(X_train[80:])).reshape(-1)\n",
    "\n",
    "\n",
    "df1[obj+'_pred'] = y_pred_test\n",
    "df1[obj] = df[obj][80:].tolist()\n",
    "\n",
    "pickle.dump(model, open('CL_1_finetune.pkl', 'wb'))\n",
    "\n",
    "correlation = df1[obj+'_pred'].corr(df1[obj])\n",
    "print(f\"Correlation: {correlation}\")"
   ]
  },
  {
   "cell_type": "code",
   "execution_count": null,
   "metadata": {},
   "outputs": [
    {
     "name": "stdout",
     "output_type": "stream",
     "text": [
      "Correlation: 0.5639175385825631\n"
     ]
    }
   ],
   "source": [
    "pretrained_model = pickle.load(open('Vss_1_mol.pkl', 'rb'))\n",
    "\n",
    "params = {\n",
    "    #'random_strength': 2, \n",
    "    'random_seed': 42,\n",
    "    'verbose': 0,\n",
    "    'loss_function': 'MAE',\n",
    "    # 'iterations': 50, \n",
    "    # 'learning_rate': 1e-5,  \n",
    "}\n",
    "obj = 'Vss_1'\n",
    "\n",
    "X_train = get_fingerprints(df['smiles_rdkit'])\n",
    "Y_scaler = scaler(log=True)\n",
    "Y_scaler.fit(df[obj].values)\n",
    "train_Y_scale = Y_scaler.transform(df[obj].values)\n",
    "\n",
    "model = cb.CatBoostRegressor(**params)\n",
    "model.fit(X_train[:80], train_Y_scale[:80], \n",
    "          init_model=pretrained_model)  \n",
    "\n",
    "\n",
    "y_pred_test = Y_scaler.inverse_transform(model.predict(X_train[80:])).reshape(-1)\n",
    "\n",
    "df1[obj+'_pred'] = y_pred_test\n",
    "df1[obj] = df[obj][80:].tolist()\n",
    "\n",
    "pickle.dump(model, open('Vss_1_finetune.pkl', 'wb'))\n",
    "\n",
    "correlation = df1[obj+'_pred'].corr(df1[obj])\n",
    "print(f\"Correlation: {correlation}\")"
   ]
  },
  {
   "cell_type": "code",
   "execution_count": null,
   "metadata": {},
   "outputs": [
    {
     "name": "stdout",
     "output_type": "stream",
     "text": [
      "Correlation: 0.7574308740758059\n"
     ]
    }
   ],
   "source": [
    "pretrained_model = pickle.load(open('t0.5_10_mol.pkl', 'rb'))\n",
    "\n",
    "params = {\n",
    "    #'random_strength': 2, \n",
    "    'random_seed': 42,\n",
    "    'verbose': 0,\n",
    "    'loss_function': 'MAE',\n",
    "    # 'iterations': 50,  \n",
    "    # 'learning_rate': 1e-5,  \n",
    "}\n",
    "obj = 't0.5_10'\n",
    "\n",
    "X_train = get_fingerprints(df['smiles_rdkit'])\n",
    "Y_scaler = scaler(log=True)\n",
    "Y_scaler.fit(df[obj].values)\n",
    "train_Y_scale = Y_scaler.transform(df[obj].values)\n",
    "\n",
    "\n",
    "model = cb.CatBoostRegressor(**params)\n",
    "model.fit(X_train[:80], train_Y_scale[:80], \n",
    "          init_model=pretrained_model)  # 微调时可调节的参数\n",
    "\n",
    "y_pred_test = Y_scaler.inverse_transform(model.predict(X_train[80:])).reshape(-1)\n",
    "\n",
    "\n",
    "df1[obj+'_pred'] = y_pred_test\n",
    "df1[obj] = df[obj][80:].tolist()\n",
    "\n",
    "\n",
    "pickle.dump(model, open('t0.5_10_finetune.pkl', 'wb'))\n",
    "\n",
    "\n",
    "correlation = df1[obj+'_pred'].corr(df1[obj])\n",
    "print(f\"Correlation: {correlation}\")"
   ]
  },
  {
   "cell_type": "code",
   "execution_count": 25,
   "metadata": {},
   "outputs": [],
   "source": [
    "df1.to_csv('data6.csv')"
   ]
  }
 ],
 "metadata": {
  "kernelspec": {
   "display_name": "Python 3",
   "language": "python",
   "name": "python3"
  },
  "language_info": {
   "codemirror_mode": {
    "name": "ipython",
    "version": 3
   },
   "file_extension": ".py",
   "mimetype": "text/x-python",
   "name": "python",
   "nbconvert_exporter": "python",
   "pygments_lexer": "ipython3",
   "version": "3.10.13"
  }
 },
 "nbformat": 4,
 "nbformat_minor": 2
}
